{
 "cells": [
  {
   "cell_type": "markdown",
   "metadata": {},
   "source": [
    "Problem 1.2.3\n",
    "\n",
    "We find that $\\frac{d^2}{dt^2}u = -w^2\\Big(\\cos(k_xx + k_yy - wt) - i\\sin(k_xx+k_yy -wt)\\Big) = -w^2u$.\n",
    "\n",
    "Similarly, $c^2\\nabla^2 u = -(k_x^2+k_y^2)c^2u$.\n",
    "\n",
    "From this we can see that $u$ solves the wave equation for $c= \\frac{w}{\\sqrt{k_x^2+k_y^2}}$."
   ]
  },
  {
   "cell_type": "markdown",
   "metadata": {},
   "source": [
    "Problem 1.2.4\n",
    "\n",
    "We have that $\\overline{w}$ can be approximated with the equation used in our Wave2D code. Since $k_x=k_y=k$, we get that\n",
    "\\begin{align*}\n",
    "    \\overline{w} = c\\sqrt{2k^2} = \\frac{\\sqrt{2}Ch}{\\Delta t}k = \\frac{kh}{\\Delta t}.\n",
    "\\end{align*}\n",
    "We insert this into $u_{i,j}^n$, so that we get\n",
    "\\begin{align*}\n",
    "    u_{i,j}^n = e^{ikh(i+j-n)}.\n",
    "\\end{align*}\n",
    "From this we can see that\n",
    "\\begin{align*}\n",
    "    u_{i,j}^{n+1} = u_{i-1,j}^{n} = u_{i,j-1}^{n},\n",
    "\\end{align*}\n",
    "and similarly for $u_{i,j}^{n}$ and $u_{i,j}^{n-1}$.\n",
    "\n",
    "Now we insert into equation (1.3), and get that\n",
    "\\begin{align*}\n",
    "    \\frac{u_{i,j}^{n+1} -2u_{i,j}^{n} + u_{i,j}^{n-1}}{\\Delta t^2} = 2c^2\\frac{u_{i,j}^{n-1} -2u_{i,j}^{n} + u_{i,j}^{n+1}}{h^2},\n",
    "\\end{align*}\n",
    "further giving us that\n",
    "\\begin{align*}\n",
    "    \\frac{1}{\\Delta t^2} = \\frac{2c^2}{h^2}.\n",
    "\\end{align*}\n",
    "\n",
    "We have that $c=Ch/\\Delta t = h/(\\sqrt{2}\\Delta t)$, so we insert this into the equation above, leaving us with\n",
    "\\begin{align*}\n",
    "    \\frac{1}{\\Delta t^2} &= \\frac{1}{\\Delta t^2}. \\\\\n",
    "    1 &= 1\n",
    "\\end{align*}\n",
    "Which tells us that our approximation $\\overline{w}=w$."
   ]
  }
 ],
 "metadata": {
  "language_info": {
   "name": "python"
  },
  "orig_nbformat": 4
 },
 "nbformat": 4,
 "nbformat_minor": 2
}
